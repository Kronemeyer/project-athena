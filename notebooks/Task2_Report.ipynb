{
 "cells": [
  {
   "cell_type": "markdown",
   "metadata": {},
   "source": [
    "Minerva - Task 2 Report: Hybrid ATHENA\n",
    "==="
   ]
  },
  {
   "cell_type": "markdown",
   "metadata": {},
   "source": [
    "---"
   ]
  },
  {
   "cell_type": "markdown",
   "metadata": {},
   "source": [
    "### Abstract \n",
    "\n",
    "In Task Two, we built Hybrid ensembles from the library of diverse types of weak defenses. By randomly selecting a combination of 20 different CNNs and SVMs weak defences, we ran 10 different sets of Hybrid ensembles on various machines’ hardware. Our experiment has shown that an ensemble with a ratio of more CNNs than SVMs yielded the most effective defences. "
   ]
  },
  {
   "cell_type": "markdown",
   "metadata": {},
   "source": [
    "### Approach"
   ]
  },
  {
   "cell_type": "markdown",
   "metadata": {},
   "source": []
  },
  {
   "cell_type": "markdown",
   "metadata": {},
   "source": [
    "### Experimental settings "
   ]
  },
  {
   "cell_type": "code",
   "execution_count": null,
   "metadata": {},
   "outputs": [],
   "source": [
    "# do 10 times\n",
    "    for _ in range(10):\n",
    "        # get random number 0-20 and pick that many wd's from cnn\n",
    "        cnn_num = random.randint(0, 20)\n",
    "        cnn_ids = []\n",
    "        for _ in range(cnn_num):\n",
    "            temp = random.randint(1, 72)\n",
    "            while temp in cnn_ids:\n",
    "                temp = random.randint(1, 72)\n",
    "            cnn_ids.append(temp)\n",
    "        cnn_ids.sort()\n",
    "        trans_configs['active_wds'] = cnn_ids\n",
    "\n",
    "        # do for svm's as well\n",
    "        svm_num = 20 - cnn_num\n",
    "        svm_ids = []\n",
    "        for _ in range(svm_num):\n",
    "            temp = random.randint(1, 70)\n",
    "            while temp in svm_ids:\n",
    "                temp = random.randint(1, 70)\n",
    "            svm_ids.append(temp)\n",
    "        svm_ids.sort()\n",
    "        trans_configs2['active_wds'] = svm_ids\n",
    "\n",
    "        # -------- test transformations -------------\n",
    "        evaluate(trans_configs=trans_configs,\n",
    "                 trans_configs2=trans_configs2,\n",
    "                 model_configs=model_configs,\n",
    "                 data_configs=data_configs,\n",
    "                 save=args.save_results,\n",
    "                 output_dir=args.output_root)"
   ]
  },
  {
   "cell_type": "markdown",
   "metadata": {},
   "source": [
    "### Evaluation"
   ]
  },
  {
   "cell_type": "markdown",
   "metadata": {},
   "source": [
    "### Data"
   ]
  },
  {
   "cell_type": "markdown",
   "metadata": {},
   "source": []
  },
  {
   "cell_type": "markdown",
   "metadata": {},
   "source": [
    "### Team Contribution"
   ]
  },
  {
   "cell_type": "markdown",
   "metadata": {},
   "source": [
    "### Conclusion\n",
    "\n",
    "In conclusion, an ensemble with a greater ratio of CNNs vs SVMs generates improved defence efficiency when we construct a series of hybrid ensembles through the library of diverse types of weak defenses. We deduced our findings from an experiment where we processed 10 sets of varying combinations of Hybrid ensembles with randomly selected combinations of 20 various SVMs and CNNs weak defenses with the goal of finding the most effective defences."
   ]
  }
 ],
 "metadata": {
  "kernelspec": {
   "display_name": "Python 3",
   "language": "python",
   "name": "python3"
  },
  "language_info": {
   "codemirror_mode": {
    "name": "ipython",
    "version": 3
   },
   "file_extension": ".py",
   "mimetype": "text/x-python",
   "name": "python",
   "nbconvert_exporter": "python",
   "pygments_lexer": "ipython3",
   "version": "3.7.9"
  }
 },
 "nbformat": 4,
 "nbformat_minor": 4
}
